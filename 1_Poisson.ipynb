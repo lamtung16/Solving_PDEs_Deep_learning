{
  "nbformat": 4,
  "nbformat_minor": 0,
  "metadata": {
    "colab": {
      "name": "1. Poisson.ipynb",
      "provenance": [],
      "collapsed_sections": [],
      "mount_file_id": "15dfWYRNxLCLZHKdpiyoTci2XtRfXvyMV",
      "authorship_tag": "ABX9TyOFUoDXyx7UblqxMR2mVTI5",
      "include_colab_link": true
    },
    "kernelspec": {
      "name": "python3",
      "display_name": "Python 3"
    },
    "accelerator": "TPU"
  },
  "cells": [
    {
      "cell_type": "markdown",
      "metadata": {
        "id": "view-in-github",
        "colab_type": "text"
      },
      "source": [
        "<a href=\"https://colab.research.google.com/github/lamtung1997/Solving_PDEs_Deep_learning/blob/main/1_Poisson.ipynb\" target=\"_parent\"><img src=\"https://colab.research.google.com/assets/colab-badge.svg\" alt=\"Open In Colab\"/></a>"
      ]
    },
    {
      "cell_type": "code",
      "metadata": {
        "id": "PmGzlShRQ-3j"
      },
      "source": [
        "# SETUP\n",
        "import tensorflow as tf\n",
        "from tensorflow import keras\n",
        "from tensorflow.keras import layers\n",
        "import numpy as np\n",
        "import time\n",
        "import math\n",
        "import itertools\n",
        "pi = math.pi\n",
        "\n",
        "np.random.seed(1)\n",
        "tf.random.set_seed(1)"
      ],
      "execution_count": null,
      "outputs": []
    },
    {
      "cell_type": "code",
      "metadata": {
        "id": "alwi7ztmxQOT",
        "outputId": "111db09d-d5d8-4e5c-8e0e-4d93aa167d03",
        "colab": {
          "base_uri": "https://localhost:8080/"
        }
      },
      "source": [
        "# MODEL\n",
        "inputs = keras.Input(shape=(2,), name='points')\n",
        "hidden_1 = layers.Dense(64, activation='sigmoid', name='hidden_1')(inputs)\n",
        "hidden_2 = layers.Dense(64, activation='sigmoid', name='hidden_2')(hidden_1)\n",
        "hidden_3 = layers.Dense(64, activation='sigmoid', name='hidden_3')(hidden_2)\n",
        "outputs = layers.Dense(1, activation='linear', name=\"fx\")(hidden_3)\n",
        "model = keras.Model(inputs=inputs, outputs=outputs, name='poisson')\n",
        "model.summary()"
      ],
      "execution_count": null,
      "outputs": [
        {
          "output_type": "stream",
          "text": [
            "Model: \"poisson\"\n",
            "_________________________________________________________________\n",
            "Layer (type)                 Output Shape              Param #   \n",
            "=================================================================\n",
            "points (InputLayer)          [(None, 2)]               0         \n",
            "_________________________________________________________________\n",
            "hidden_1 (Dense)             (None, 64)                192       \n",
            "_________________________________________________________________\n",
            "hidden_2 (Dense)             (None, 64)                4160      \n",
            "_________________________________________________________________\n",
            "hidden_3 (Dense)             (None, 64)                4160      \n",
            "_________________________________________________________________\n",
            "fx (Dense)                   (None, 1)                 65        \n",
            "=================================================================\n",
            "Total params: 8,577\n",
            "Trainable params: 8,577\n",
            "Non-trainable params: 0\n",
            "_________________________________________________________________\n"
          ],
          "name": "stdout"
        }
      ]
    },
    {
      "cell_type": "code",
      "metadata": {
        "id": "-iYfmTeVUduG"
      },
      "source": [
        "# DATA\n",
        "import itertools\n",
        "\n",
        "n = 30                      # number of points in a border\n",
        "c = np.linspace(0, 1, n)    # coordinates from 0 to 1 with uniform distribution\n",
        "P_in, P_border = [],[]\n",
        "for i, j in itertools.product(range(n), range(n)):\n",
        "    p = [c[i], c[j]]\n",
        "    if(i == 0 or i == n-1 or j == 0 or j == n-1):\n",
        "        P_border.append(p)\n",
        "    else:\n",
        "        P_in.append(p)\n",
        "\n",
        "# upsampling P_border that its size is equal to P_in\n",
        "for i in range(len(P_in)-len(P_border)):\n",
        "    j = i%(len(P_border))\n",
        "    P_border.append(P_border[j])\n",
        "\n",
        "# set batch_size and shuffle_size\n",
        "batch_size = int(len(P_border)/392)\n",
        "bs = int(len(P_border))\n",
        "\n",
        "# convert numpy array, P_in and P_border to Tensorflow Dataset\n",
        "P_in = tf.convert_to_tensor(P_in, dtype=tf.float32)\n",
        "P_border = tf.convert_to_tensor(P_border, dtype=tf.float32)\n",
        "\n",
        "P_in = tf.data.Dataset.from_tensor_slices((P_in))\n",
        "P_in = P_in.shuffle(buffer_size=bs).batch(batch_size)\n",
        "\n",
        "P_border = tf.data.Dataset.from_tensor_slices((P_border))\n",
        "P_border = P_border.shuffle(buffer_size=bs).batch(batch_size)"
      ],
      "execution_count": null,
      "outputs": []
    },
    {
      "cell_type": "code",
      "metadata": {
        "id": "VVaW8j-64tz4"
      },
      "source": [
        "# CHOOSE OPTIMIZER\n",
        "optimizer = tf.keras.optimizers.Adam(learning_rate=1e-3)"
      ],
      "execution_count": null,
      "outputs": []
    },
    {
      "cell_type": "code",
      "metadata": {
        "id": "oK9zspI6pczi"
      },
      "source": [
        "# TRAIN FUNCTION\n",
        "@tf.function\n",
        "def train_step(P_in, P_border):\n",
        "    with tf.GradientTape(persistent=True) as tape:\n",
        "        loss_in, loss_border = [0], [0]\n",
        "        # interior loss\n",
        "        for i in range(P_in.shape[0]):\n",
        "            v = tf.reshape(P_in[i], shape=(1,2))\n",
        "            tape.watch(v)\n",
        "            model_vals = model(v)\n",
        "\n",
        "            # calculating u_xx and u_yy\n",
        "            u_x_y = tape.gradient(model_vals, v)\n",
        "            u_xx = tape.gradient(u_x_y[0][0], v)[0][0]\n",
        "            u_yy = tape.gradient(u_x_y[0][1], v)[0][1]\n",
        "\n",
        "            # calculating f(x,y)\n",
        "            f = -2*pi*pi* tf.math.sin(pi*v[0][0]) * tf.math.sin(pi*v[0][1])\n",
        "\n",
        "            # calculating loss_in\n",
        "            loss_in += tf.math.square(u_xx + u_yy - f)\n",
        "\n",
        "        # boundary loss\n",
        "        for j in range(P_border.shape[0]):\n",
        "            v = tf.reshape(P_border[j], shape=(1,2))\n",
        "            loss_border += tf.math.square(model(v))\n",
        "        \n",
        "        # loss function\n",
        "        batch_loss = loss_in + loss_border\n",
        "    \n",
        "    # update weights\n",
        "    grads = tape.gradient(batch_loss, model.trainable_weights)          # gradient of loss function with respect to w\n",
        "    optimizer.apply_gradients(zip(grads, model.trainable_weights))      # update w\n",
        "\n",
        "    return batch_loss"
      ],
      "execution_count": null,
      "outputs": []
    },
    {
      "cell_type": "code",
      "metadata": {
        "id": "GVQ_WTXlpegx",
        "outputId": "274e0ff3-669b-4d2e-d53d-7c925bc197c8",
        "colab": {
          "base_uri": "https://localhost:8080/"
        }
      },
      "source": [
        "# TRAIN\n",
        "epochs = 1000\n",
        "losses = []\n",
        "start_time = time.time()\n",
        "for epoch in range(epochs+1):\n",
        "\n",
        "    optimizer.learning_rate.assign(1/(10**(int(epoch/400) + 2)))\n",
        "\n",
        "    loss = 0\n",
        "    for (P_in_batch,P_border_batch) in itertools.zip_longest(P_in,P_border):\n",
        "        batch_loss = train_step(P_in_batch, P_border_batch)\n",
        "        loss += batch_loss\n",
        "    losses.append(loss.numpy())\n",
        "    if(epoch%100 == 0):\n",
        "        print(\"[%4s] Training loss: %10f \\t learning_rate: %f\" % (epoch, float(loss), optimizer.learning_rate.numpy()))\n",
        "\n",
        "print(\"Total time: %.2f minutes\" % ((time.time() - start_time)/60))"
      ],
      "execution_count": null,
      "outputs": [
        {
          "output_type": "stream",
          "text": [
            "WARNING:tensorflow:Calling GradientTape.gradient on a persistent tape inside its context is significantly less efficient than calling it outside the context (it causes the gradient ops to be recorded on the tape, leading to increased CPU and memory usage). Only call GradientTape.gradient inside the context if you actually want to trace the gradient in order to compute higher order derivatives.\n",
            "[   0] Training loss: 25832.238281 \t learning_rate: 0.010000\n",
            "[ 100] Training loss: 138.525681 \t learning_rate: 0.010000\n",
            "[ 200] Training loss: 239.468384 \t learning_rate: 0.010000\n",
            "[ 300] Training loss:  21.017834 \t learning_rate: 0.010000\n",
            "[ 400] Training loss:   3.231767 \t learning_rate: 0.001000\n",
            "[ 500] Training loss:   2.594587 \t learning_rate: 0.001000\n",
            "[ 600] Training loss:   2.575521 \t learning_rate: 0.001000\n",
            "[ 700] Training loss:   1.943766 \t learning_rate: 0.001000\n",
            "[ 800] Training loss:   0.795060 \t learning_rate: 0.000100\n",
            "[ 900] Training loss:   0.765025 \t learning_rate: 0.000100\n",
            "[1000] Training loss:   0.738349 \t learning_rate: 0.000100\n",
            "Total time: 9.20 minutes\n"
          ],
          "name": "stdout"
        }
      ]
    },
    {
      "cell_type": "code",
      "metadata": {
        "id": "X8tx1ESm9Zm1",
        "outputId": "f560303d-4306-4e66-922c-e289072ccb84",
        "colab": {
          "base_uri": "https://localhost:8080/"
        }
      },
      "source": [
        "z = tf.convert_to_tensor([[0.0, 0.0]])\n",
        "print(\"f(0.0, 0.0) \\t = %.2f\" % model(z).numpy()[0][0])\n",
        "z = tf.convert_to_tensor([[0.1, 0.1]])\n",
        "print(\"f(0.1, 0.1) \\t = %.2f\" % model(z).numpy()[0][0])\n",
        "z = tf.convert_to_tensor([[0.2, 0.2]])\n",
        "print(\"f(0.2, 0.2) \\t = %.2f\" % model(z).numpy()[0][0])\n",
        "z = tf.convert_to_tensor([[0.3, 0.3]])\n",
        "print(\"f(0.3, 0.3) \\t = %.2f\" % model(z).numpy()[0][0])\n",
        "z = tf.convert_to_tensor([[0.4, 0.4]])\n",
        "print(\"f(0.4, 0.4) \\t = %.2f\" % model(z).numpy()[0][0])\n",
        "z = tf.convert_to_tensor([[0.5, 0.5]])\n",
        "print(\"f(0.5, 0.5) \\t = %.2f\" % model(z).numpy()[0][0])"
      ],
      "execution_count": null,
      "outputs": [
        {
          "output_type": "stream",
          "text": [
            "f(0.0, 0.0) \t = -0.02\n",
            "f(0.1, 0.1) \t = 0.09\n",
            "f(0.2, 0.2) \t = 0.35\n",
            "f(0.3, 0.3) \t = 0.66\n",
            "f(0.4, 0.4) \t = 0.91\n",
            "f(0.5, 0.5) \t = 1.01\n"
          ],
          "name": "stdout"
        }
      ]
    },
    {
      "cell_type": "code",
      "metadata": {
        "id": "ZIwSHWLGoGrh",
        "outputId": "e274143f-6a87-4680-cd93-f21fab1b0397",
        "colab": {
          "base_uri": "https://localhost:8080/"
        }
      },
      "source": [
        "model.save(\"/content/drive/My Drive/Colab Notebooks/Keras/Solving PDEs/1. Poisson\")"
      ],
      "execution_count": null,
      "outputs": [
        {
          "output_type": "stream",
          "text": [
            "WARNING:tensorflow:From /usr/local/lib/python3.6/dist-packages/tensorflow/python/training/tracking/tracking.py:111: Model.state_updates (from tensorflow.python.keras.engine.training) is deprecated and will be removed in a future version.\n",
            "Instructions for updating:\n",
            "This property should not be used in TensorFlow 2.0, as updates are applied automatically.\n",
            "WARNING:tensorflow:From /usr/local/lib/python3.6/dist-packages/tensorflow/python/training/tracking/tracking.py:111: Layer.updates (from tensorflow.python.keras.engine.base_layer) is deprecated and will be removed in a future version.\n",
            "Instructions for updating:\n",
            "This property should not be used in TensorFlow 2.0, as updates are applied automatically.\n",
            "INFO:tensorflow:Assets written to: /content/drive/My Drive/Colab Notebooks/Keras/Solving PDEs/1. Poisson/assets\n"
          ],
          "name": "stdout"
        }
      ]
    },
    {
      "cell_type": "code",
      "metadata": {
        "id": "iBtBtezKoeP2",
        "outputId": "0108bd26-a2b4-459d-bcf4-d5798b69e2bf",
        "colab": {
          "base_uri": "https://localhost:8080/"
        }
      },
      "source": [
        "model1 = keras.models.load_model(\"/content/drive/My Drive/Colab Notebooks/Keras/Solving PDEs/1. Poisson\")\n",
        "\n",
        "z = tf.convert_to_tensor([[0.5, 0.5]])\n",
        "print(\"f(0.5, 0.5) \\t = %.2f\" % model1(z).numpy()[0][0])"
      ],
      "execution_count": null,
      "outputs": [
        {
          "output_type": "stream",
          "text": [
            "WARNING:tensorflow:No training configuration found in save file, so the model was *not* compiled. Compile it manually.\n",
            "f(0.5, 0.5) \t = 1.01\n"
          ],
          "name": "stdout"
        }
      ]
    }
  ]
}